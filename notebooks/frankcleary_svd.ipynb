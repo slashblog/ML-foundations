{
 "cells": [
  {
   "cell_type": "code",
   "execution_count": 1,
   "id": "217f62a5-c2f2-42a3-9a78-80305b0ba325",
   "metadata": {},
   "outputs": [],
   "source": [
    "# https://www.frankcleary.com/svd/"
   ]
  },
  {
   "cell_type": "code",
   "execution_count": 3,
   "id": "7e187af8-2199-4b7f-9538-7a1a56e0b757",
   "metadata": {},
   "outputs": [],
   "source": [
    "import pandas as pd"
   ]
  },
  {
   "cell_type": "code",
   "execution_count": 4,
   "id": "f6f66e89-d1ce-43e5-a63a-f1511d0717fe",
   "metadata": {},
   "outputs": [
    {
     "data": {
      "text/html": [
       "<div>\n",
       "<style scoped>\n",
       "    .dataframe tbody tr th:only-of-type {\n",
       "        vertical-align: middle;\n",
       "    }\n",
       "\n",
       "    .dataframe tbody tr th {\n",
       "        vertical-align: top;\n",
       "    }\n",
       "\n",
       "    .dataframe thead th {\n",
       "        text-align: right;\n",
       "    }\n",
       "</style>\n",
       "<table border=\"1\" class=\"dataframe\">\n",
       "  <thead>\n",
       "    <tr style=\"text-align: right;\">\n",
       "      <th></th>\n",
       "      <th>post1</th>\n",
       "      <th>post2</th>\n",
       "      <th>post3</th>\n",
       "      <th>post4</th>\n",
       "    </tr>\n",
       "    <tr>\n",
       "      <th>word:</th>\n",
       "      <th></th>\n",
       "      <th></th>\n",
       "      <th></th>\n",
       "      <th></th>\n",
       "    </tr>\n",
       "  </thead>\n",
       "  <tbody>\n",
       "    <tr>\n",
       "      <th>ice</th>\n",
       "      <td>4</td>\n",
       "      <td>4</td>\n",
       "      <td>6</td>\n",
       "      <td>2</td>\n",
       "    </tr>\n",
       "    <tr>\n",
       "      <th>snow</th>\n",
       "      <td>6</td>\n",
       "      <td>1</td>\n",
       "      <td>0</td>\n",
       "      <td>5</td>\n",
       "    </tr>\n",
       "    <tr>\n",
       "      <th>tahoe</th>\n",
       "      <td>3</td>\n",
       "      <td>0</td>\n",
       "      <td>0</td>\n",
       "      <td>5</td>\n",
       "    </tr>\n",
       "    <tr>\n",
       "      <th>goal</th>\n",
       "      <td>0</td>\n",
       "      <td>6</td>\n",
       "      <td>5</td>\n",
       "      <td>1</td>\n",
       "    </tr>\n",
       "    <tr>\n",
       "      <th>puck</th>\n",
       "      <td>0</td>\n",
       "      <td>4</td>\n",
       "      <td>5</td>\n",
       "      <td>0</td>\n",
       "    </tr>\n",
       "  </tbody>\n",
       "</table>\n",
       "</div>"
      ],
      "text/plain": [
       "       post1  post2  post3  post4\n",
       "word:                            \n",
       "ice        4      4      6      2\n",
       "snow       6      1      0      5\n",
       "tahoe      3      0      0      5\n",
       "goal       0      6      5      1\n",
       "puck       0      4      5      0"
      ]
     },
     "execution_count": 4,
     "metadata": {},
     "output_type": "execute_result"
    }
   ],
   "source": [
    "c_names = ['post1', 'post2', 'post3', 'post4']\n",
    "words = ['ice', 'snow', 'tahoe', 'goal', 'puck']\n",
    "post_words = pd.DataFrame([[4, 4, 6, 2],\n",
    "                           [6, 1, 0, 5],\n",
    "                           [3, 0, 0, 5],\n",
    "                           [0, 6, 5, 1],\n",
    "                           [0, 4, 5, 0]],\n",
    "                          index = words,\n",
    "                          columns = c_names)\n",
    "post_words.index.names = ['word:']\n",
    "post_words"
   ]
  },
  {
   "cell_type": "code",
   "execution_count": 7,
   "id": "9ed7d443-24c8-45fa-9739-760710adabde",
   "metadata": {},
   "outputs": [
    {
     "name": "stdout",
     "output_type": "stream",
     "text": [
      "V = \n",
      "[[-0.4  -0.57 -0.63 -0.35]\n",
      " [-0.6   0.33  0.41 -0.6 ]\n",
      " [ 0.6  -0.41  0.32 -0.61]\n",
      " [-0.34 -0.63  0.58  0.39]]\n"
     ]
    }
   ],
   "source": [
    "import numpy as np\n",
    "\n",
    "U, sigma, V = np.linalg.svd(post_words)\n",
    "print('V = ')\n",
    "print(np.round(V, decimals=2))"
   ]
  },
  {
   "cell_type": "code",
   "execution_count": 9,
   "id": "dd598bc0-d222-4132-a33e-39192243735b",
   "metadata": {},
   "outputs": [
    {
     "name": "stdout",
     "output_type": "stream",
     "text": [
      "U =  [[-0.62610079  0.01852561  0.6259093   0.23487748 -0.40090488]\n",
      " [-0.35134826 -0.67829097  0.0779915  -0.56006159  0.311005  ]\n",
      " [-0.21940528 -0.51980146 -0.50346468  0.6484906  -0.08747016]\n",
      " [-0.51965373  0.37026259 -0.59046979 -0.38005352 -0.31586445]\n",
      " [-0.40788911  0.36371724 -0.00485878  0.25726028  0.79695031]]\n",
      "sigma =  [13.3221948   9.2609512   2.41918664  1.37892883]\n"
     ]
    }
   ],
   "source": [
    "print('U = ', U)\n",
    "print('sigma = ', sigma)"
   ]
  },
  {
   "cell_type": "code",
   "execution_count": 11,
   "id": "a806fcd4-e0cf-4dc7-919b-57e7a01e1111",
   "metadata": {},
   "outputs": [
    {
     "data": {
      "text/html": [
       "<div>\n",
       "<style scoped>\n",
       "    .dataframe tbody tr th:only-of-type {\n",
       "        vertical-align: middle;\n",
       "    }\n",
       "\n",
       "    .dataframe tbody tr th {\n",
       "        vertical-align: top;\n",
       "    }\n",
       "\n",
       "    .dataframe thead th {\n",
       "        text-align: right;\n",
       "    }\n",
       "</style>\n",
       "<table border=\"1\" class=\"dataframe\">\n",
       "  <thead>\n",
       "    <tr style=\"text-align: right;\">\n",
       "      <th></th>\n",
       "      <th>post1</th>\n",
       "      <th>post2</th>\n",
       "      <th>post3</th>\n",
       "      <th>post4</th>\n",
       "    </tr>\n",
       "  </thead>\n",
       "  <tbody>\n",
       "    <tr>\n",
       "      <th>0</th>\n",
       "      <td>-0.395634</td>\n",
       "      <td>-0.570869</td>\n",
       "      <td>-0.630100</td>\n",
       "      <td>-0.347212</td>\n",
       "    </tr>\n",
       "    <tr>\n",
       "      <th>1</th>\n",
       "      <td>-0.599836</td>\n",
       "      <td>0.331743</td>\n",
       "      <td>0.408279</td>\n",
       "      <td>-0.602870</td>\n",
       "    </tr>\n",
       "    <tr>\n",
       "      <th>2</th>\n",
       "      <td>0.604001</td>\n",
       "      <td>-0.405353</td>\n",
       "      <td>0.321932</td>\n",
       "      <td>-0.605996</td>\n",
       "    </tr>\n",
       "    <tr>\n",
       "      <th>3</th>\n",
       "      <td>-0.344752</td>\n",
       "      <td>-0.632253</td>\n",
       "      <td>0.576751</td>\n",
       "      <td>0.385695</td>\n",
       "    </tr>\n",
       "  </tbody>\n",
       "</table>\n",
       "</div>"
      ],
      "text/plain": [
       "      post1     post2     post3     post4\n",
       "0 -0.395634 -0.570869 -0.630100 -0.347212\n",
       "1 -0.599836  0.331743  0.408279 -0.602870\n",
       "2  0.604001 -0.405353  0.321932 -0.605996\n",
       "3 -0.344752 -0.632253  0.576751  0.385695"
      ]
     },
     "execution_count": 11,
     "metadata": {},
     "output_type": "execute_result"
    }
   ],
   "source": [
    "V_df = pd.DataFrame(V, columns=c_names)\n",
    "V_df"
   ]
  },
  {
   "cell_type": "code",
   "execution_count": 28,
   "id": "93e58e99-8394-422b-b201-f1f2544cdbd3",
   "metadata": {},
   "outputs": [
    {
     "data": {
      "text/plain": [
       "array([[ 3.19708412,  4.81855605,  5.32573599,  2.79267497],\n",
       "       [ 5.61979298,  0.58820097,  0.38467542,  5.41220366],\n",
       "       [ 4.04394318,  0.07166455, -0.12363886,  3.91701473],\n",
       "       [ 0.68211703,  5.08962774,  5.76212157,  0.33649133],\n",
       "       [ 0.12939801,  4.21952303,  4.79918534, -0.14394602]])"
      ]
     },
     "execution_count": 28,
     "metadata": {},
     "output_type": "execute_result"
    }
   ],
   "source": [
    "np.matmul(np.matmul(U[:, :2], np.diag(sigma[:2])), V[:2, :])"
   ]
  },
  {
   "cell_type": "code",
   "execution_count": 44,
   "id": "bd43b38e-e457-4385-b0aa-e923321a27dd",
   "metadata": {},
   "outputs": [
    {
     "data": {
      "text/plain": [
       "matrix([[-0.62610079,  0.01852561],\n",
       "        [-0.35134826, -0.67829097],\n",
       "        [-0.21940528, -0.51980146],\n",
       "        [-0.51965373,  0.37026259],\n",
       "        [-0.40788911,  0.36371724]])"
      ]
     },
     "execution_count": 44,
     "metadata": {},
     "output_type": "execute_result"
    }
   ],
   "source": [
    "np.matrix(U[:, :2])"
   ]
  },
  {
   "cell_type": "code",
   "execution_count": 42,
   "id": "a032529b-8d2d-47e4-a3c8-2464a0c2ff1a",
   "metadata": {},
   "outputs": [
    {
     "data": {
      "text/plain": [
       "array([[13.3221948,  0.       ],\n",
       "       [ 0.       ,  9.2609512]])"
      ]
     },
     "execution_count": 42,
     "metadata": {},
     "output_type": "execute_result"
    }
   ],
   "source": [
    "np.diag(sigma[:2])"
   ]
  },
  {
   "cell_type": "code",
   "execution_count": 45,
   "id": "9b0d8b78-6617-4e5c-a655-08f2c8ddc2ac",
   "metadata": {},
   "outputs": [
    {
     "data": {
      "text/plain": [
       "matrix([[-0.39563365, -0.57086917, -0.6301003 , -0.34721178],\n",
       "        [-0.59983555,  0.33174302,  0.4082791 , -0.60286986]])"
      ]
     },
     "execution_count": 45,
     "metadata": {},
     "output_type": "execute_result"
    }
   ],
   "source": [
    "np.matrix(V[:2, :])"
   ]
  },
  {
   "cell_type": "code",
   "execution_count": 46,
   "id": "220b626d-87f9-4dc8-ade3-192ee92989bf",
   "metadata": {},
   "outputs": [
    {
     "data": {
      "text/plain": [
       "matrix([[ 0.23659422,  0.36356738,  0.40206991,  0.20622104],\n",
       "        [ 0.54586823, -0.02444441, -0.05554738,  0.53091343],\n",
       "        [ 0.3985995 , -0.0471888 , -0.07397674,  0.38955273],\n",
       "        [-0.01650416,  0.41948633,  0.47860445, -0.04279025],\n",
       "        [-0.05679587,  0.35351197,  0.40550919, -0.07765025]])"
      ]
     },
     "execution_count": 46,
     "metadata": {},
     "output_type": "execute_result"
    }
   ],
   "source": [
    "np.matrix(U[:, :2]) * np.matrix(V[:2, :])"
   ]
  },
  {
   "cell_type": "code",
   "execution_count": 17,
   "id": "7bbe8829-a8bb-4742-9e1d-9ba39e3acd07",
   "metadata": {},
   "outputs": [
    {
     "name": "stdout",
     "output_type": "stream",
     "text": [
      "A calculated using only the first two components:\n",
      "\n",
      "          post1     post2     post3     post4\n",
      "ice    3.197084  4.818556  5.325736  2.792675\n",
      "snow   5.619793  0.588201  0.384675  5.412204\n",
      "tahoe  4.043943  0.071665 -0.123639  3.917015\n",
      "goal   0.682117  5.089628  5.762122  0.336491\n",
      "puck   0.129398  4.219523  4.799185 -0.143946\n",
      "\n",
      "Error from actual value:\n",
      "\n",
      "          post1     post2     post3     post4\n",
      "word:                                        \n",
      "ice    0.802916 -0.818556  0.674264 -0.792675\n",
      "snow   0.380207  0.411799 -0.384675 -0.412204\n",
      "tahoe -1.043943 -0.071665  0.123639  1.082985\n",
      "goal  -0.682117  0.910372 -0.762122  0.663509\n",
      "puck  -0.129398 -0.219523  0.200815  0.143946\n"
     ]
    }
   ],
   "source": [
    "A_approx = np.matrix(U[:, :2]) * np.diag(sigma[:2]) * np.matrix(V[:2, :])\n",
    "\n",
    "print(\"A calculated using only the first two components:\\n\")\n",
    "print(pd.DataFrame(A_approx, index=words, columns=c_names))\n",
    "print(\"\\nError from actual value:\\n\")\n",
    "print(post_words - A_approx)"
   ]
  },
  {
   "cell_type": "code",
   "execution_count": 20,
   "id": "2387456d-7b38-4e5a-8ad0-92ee54ac2c0e",
   "metadata": {},
   "outputs": [
    {
     "data": {
      "image/png": "[encoded data removed]",
      "text/plain": [
       "<Figure size 640x480 with 2 Axes>"
      ]
     },
     "metadata": {},
     "output_type": "display_data"
    }
   ],
   "source": [
    "%matplotlib inline\n",
    "import matplotlib.pyplot as plt\n",
    "\n",
    "plt.imshow(V, interpolation='none')\n",
    "plt.xticks(range(len(c_names)))\n",
    "plt.yticks(range(len(words)))\n",
    "plt.ylim([len(words) - 1.5, -.5])\n",
    "ax = plt.gca()\n",
    "ax.set_xticklabels(c_names)\n",
    "ax.set_yticklabels(range(1, len(words) + 1))\n",
    "plt.title(\"$V$\")\n",
    "plt.colorbar();"
   ]
  },
  {
   "cell_type": "code",
   "execution_count": 48,
   "id": "9b66d38c-9490-4fc4-9b45-5477513383ca",
   "metadata": {},
   "outputs": [
    {
     "data": {
      "text/html": [
       "<div>\n",
       "<style scoped>\n",
       "    .dataframe tbody tr th:only-of-type {\n",
       "        vertical-align: middle;\n",
       "    }\n",
       "\n",
       "    .dataframe tbody tr th {\n",
       "        vertical-align: top;\n",
       "    }\n",
       "\n",
       "    .dataframe thead th {\n",
       "        text-align: right;\n",
       "    }\n",
       "</style>\n",
       "<table border=\"1\" class=\"dataframe\">\n",
       "  <thead>\n",
       "    <tr style=\"text-align: right;\">\n",
       "      <th></th>\n",
       "      <th>0</th>\n",
       "    </tr>\n",
       "  </thead>\n",
       "  <tbody>\n",
       "    <tr>\n",
       "      <th>ice</th>\n",
       "      <td>0.018526</td>\n",
       "    </tr>\n",
       "    <tr>\n",
       "      <th>snow</th>\n",
       "      <td>-0.678291</td>\n",
       "    </tr>\n",
       "    <tr>\n",
       "      <th>tahoe</th>\n",
       "      <td>-0.519801</td>\n",
       "    </tr>\n",
       "    <tr>\n",
       "      <th>goal</th>\n",
       "      <td>0.370263</td>\n",
       "    </tr>\n",
       "    <tr>\n",
       "      <th>puck</th>\n",
       "      <td>0.363717</td>\n",
       "    </tr>\n",
       "  </tbody>\n",
       "</table>\n",
       "</div>"
      ],
      "text/plain": [
       "              0\n",
       "ice    0.018526\n",
       "snow  -0.678291\n",
       "tahoe -0.519801\n",
       "goal   0.370263\n",
       "puck   0.363717"
      ]
     },
     "execution_count": 48,
     "metadata": {},
     "output_type": "execute_result"
    }
   ],
   "source": [
    "pd.DataFrame(U[:,1], index=words)"
   ]
  },
  {
   "cell_type": "markdown",
   "id": "3f357c74-9540-41b9-b9bc-eca637e7bf10",
   "metadata": {},
   "source": [
    "# Identifying similar research papers using SVD"
   ]
  },
  {
   "cell_type": "code",
   "execution_count": 49,
   "id": "9e3a6334-b568-4be9-b69a-62b846a25f07",
   "metadata": {},
   "outputs": [],
   "source": [
    "! mkdir -p research_papers"
   ]
  },
  {
   "cell_type": "code",
   "execution_count": 51,
   "id": "9235c870-8d31-4117-add6-ce98be1293ce",
   "metadata": {},
   "outputs": [
    {
     "name": "stdout",
     "output_type": "stream",
     "text": [
      "--2024-12-31 12:52:15--  https://www.cell.com/action/showPdf?pii=S0092-8674%2811%2900429-6\n",
      "Loaded CA certificate '/etc/ssl/certs/ca-certificates.crt'\n",
      "Resolving www.cell.com (www.cell.com)... 172.66.0.112, 162.159.140.114\n",
      "connected. to www.cell.com (www.cell.com)|172.66.0.112|:443... \n",
      "HTTP request sent, awaiting response... 403 Forbidden\n",
      "2024-12-31 12:52:15 ERROR 403: Forbidden.\n",
      "\n"
     ]
    }
   ],
   "source": [
    "! wget --user-agent='Mozilla/5.0 (Macintosh; Intel Mac OS X 10.8; rv:21.0) Gecko/20100101 Firefox/21.0' -O research_papers/clpx1.pdf 'https://www.cell.com/action/showPdf?pii=S0092-8674%2811%2900429-6'"
   ]
  },
  {
   "cell_type": "code",
   "execution_count": null,
   "id": "095d42b7-9270-42fe-8d09-c2bafb7e529b",
   "metadata": {},
   "outputs": [],
   "source": []
  }
 ],
 "metadata": {
  "kernelspec": {
   "display_name": "Python 3 (ipykernel)",
   "language": "python",
   "name": "python3"
  },
  "language_info": {
   "codemirror_mode": {
    "name": "ipython",
    "version": 3
   },
   "file_extension": ".py",
   "mimetype": "text/x-python",
   "name": "python",
   "nbconvert_exporter": "python",
   "pygments_lexer": "ipython3",
   "version": "3.12.8"
  }
 },
 "nbformat": 4,
 "nbformat_minor": 5
}
